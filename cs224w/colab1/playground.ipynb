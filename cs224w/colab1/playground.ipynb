{
 "cells": [
  {
   "cell_type": "code",
   "execution_count": 1,
   "metadata": {},
   "outputs": [],
   "source": [
    "import torch"
   ]
  },
  {
   "cell_type": "code",
   "execution_count": 10,
   "metadata": {},
   "outputs": [
    {
     "name": "stdout",
     "output_type": "stream",
     "text": [
      "tensor([[-1.6769, -1.6747,  0.0764, -1.4877, -1.4676,  0.9340],\n",
      "        [ 0.5973, -1.5971,  0.5526, -2.1996,  0.9111,  0.1880],\n",
      "        [-1.3009, -0.4647,  0.0252,  0.9853,  0.9807, -0.7044]])\n"
     ]
    }
   ],
   "source": [
    "emb = torch.nn.Embedding(3, 6)\n",
    "emb\n",
    "print(emb.weight.data)"
   ]
  },
  {
   "cell_type": "code",
   "execution_count": 11,
   "metadata": {},
   "outputs": [
    {
     "data": {
      "text/plain": [
       "torch.Size([3, 2])"
      ]
     },
     "execution_count": 11,
     "metadata": {},
     "output_type": "execute_result"
    }
   ],
   "source": [
    "train_data = torch.tensor([[0,1],[0,2],[1,2]], dtype= torch.long)\n",
    "train_data.shape"
   ]
  },
  {
   "cell_type": "code",
   "execution_count": 14,
   "metadata": {},
   "outputs": [
    {
     "name": "stdout",
     "output_type": "stream",
     "text": [
      "tensor([[[-1.6769, -1.6747,  0.0764, -1.4877, -1.4676,  0.9340],\n",
      "         [ 0.5973, -1.5971,  0.5526, -2.1996,  0.9111,  0.1880]],\n",
      "\n",
      "        [[-1.6769, -1.6747,  0.0764, -1.4877, -1.4676,  0.9340],\n",
      "         [-1.3009, -0.4647,  0.0252,  0.9853,  0.9807, -0.7044]],\n",
      "\n",
      "        [[ 0.5973, -1.5971,  0.5526, -2.1996,  0.9111,  0.1880],\n",
      "         [-1.3009, -0.4647,  0.0252,  0.9853,  0.9807, -0.7044]]],\n",
      "       grad_fn=<EmbeddingBackward0>)\n",
      "torch.Size([3, 2, 6])\n"
     ]
    }
   ],
   "source": [
    "x = emb(train_data)\n",
    "print(x)\n",
    "print(x.shape)"
   ]
  },
  {
   "cell_type": "code",
   "execution_count": 33,
   "metadata": {},
   "outputs": [
    {
     "name": "stdout",
     "output_type": "stream",
     "text": [
      "tensor([[1., 1., 1.],\n",
      "        [1., 1., 1.],\n",
      "        [1., 1., 1.],\n",
      "        [1., 1., 1.]])\n",
      "tensor([[1., 1., 1., 1.],\n",
      "        [1., 1., 1., 1.],\n",
      "        [1., 1., 1., 1.]])\n",
      "tensor([[1., 1., 1.],\n",
      "        [2., 2., 2.],\n",
      "        [3., 3., 3.],\n",
      "        [4., 4., 4.]])\n",
      "tensor([[1., 1.],\n",
      "        [2., 2.],\n",
      "        [3., 3.],\n",
      "        [4., 4.]])\n"
     ]
    }
   ],
   "source": [
    "a = torch.ones(3, 4)\n",
    "print(a.t())\n",
    "print(a)\n",
    "b=  torch.t(a)\n",
    "b[1] = b[1]*2\n",
    "b[2] = b[2]*3\n",
    "b[3] = b[3]*4\n",
    "\n",
    "print(b)\n",
    "print(b[:, 1:3])"
   ]
  },
  {
   "cell_type": "code",
   "execution_count": 40,
   "metadata": {},
   "outputs": [
    {
     "name": "stdout",
     "output_type": "stream",
     "text": [
      "tensor([[[0.4762, 0.2579, 0.6108, 0.5999],\n",
      "         [0.2574, 0.9859, 0.6065, 0.4954]],\n",
      "\n",
      "        [[0.7987, 0.8219, 0.2108, 0.3977],\n",
      "         [0.4972, 0.3702, 0.3370, 0.3021]],\n",
      "\n",
      "        [[0.5439, 0.8424, 0.6366, 0.6889],\n",
      "         [0.5147, 0.6674, 0.8137, 0.4071]]])\n",
      "tensor([[0.4762, 0.2579, 0.6108, 0.5999],\n",
      "        [0.7987, 0.8219, 0.2108, 0.3977],\n",
      "        [0.5439, 0.8424, 0.6366, 0.6889]])\n",
      "tensor([[0.2574, 0.9859, 0.6065, 0.4954],\n",
      "        [0.4972, 0.3702, 0.3370, 0.3021],\n",
      "        [0.5147, 0.6674, 0.8137, 0.4071]])\n"
     ]
    }
   ],
   "source": [
    "a = torch.rand((3,2,4))\n",
    "print(a)\n",
    "print(a[:,0,:])\n",
    "print(a[:,1,:])\n",
    "\n"
   ]
  }
 ],
 "metadata": {
  "interpreter": {
   "hash": "bba09489541785b16315343c57d46bf63de19d215e1bc5def3f638c0792bd23c"
  },
  "kernelspec": {
   "display_name": "Python 3.8.8 ('base')",
   "language": "python",
   "name": "python3"
  },
  "language_info": {
   "codemirror_mode": {
    "name": "ipython",
    "version": 3
   },
   "file_extension": ".py",
   "mimetype": "text/x-python",
   "name": "python",
   "nbconvert_exporter": "python",
   "pygments_lexer": "ipython3",
   "version": "3.8.8"
  },
  "orig_nbformat": 4
 },
 "nbformat": 4,
 "nbformat_minor": 2
}
